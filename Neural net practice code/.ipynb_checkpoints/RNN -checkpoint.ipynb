{
 "cells": [
  {
   "cell_type": "code",
   "execution_count": 2,
   "metadata": {},
   "outputs": [
    {
     "name": "stdout",
     "output_type": "stream",
     "text": [
      "\n",
      "Error: File \"-f\" is not exist!\n",
      "\n"
     ]
    },
    {
     "ename": "SystemExit",
     "evalue": "",
     "output_type": "error",
     "traceback": [
      "An exception has occurred, use %tb to see the full traceback.\n",
      "\u001b[1;31mSystemExit\u001b[0m\n"
     ]
    },
    {
     "name": "stderr",
     "output_type": "stream",
     "text": [
      "E:\\softwere\\python_software\\Anaconda\\lib\\site-packages\\IPython\\core\\interactiveshell.py:3333: UserWarning: To exit: use 'exit', 'quit', or Ctrl-D.\n",
      "  warn(\"To exit: use 'exit', 'quit', or Ctrl-D.\", stacklevel=1)\n"
     ]
    }
   ],
   "source": [
    "import sys, os\n",
    "\n",
    "\n",
    "if len(sys.argv) <= 1:\n",
    "    print('\\nPlease provide input FASTA file.\\n')\n",
    "    print('Usage:\\nfasta2csv.py input.fst output.csv\\n')\n",
    "    sys.exit()\n",
    "\n",
    "if sys.argv[1] == '-h' or sys.argv[1] == 'help'or sys.argv[1] == '-help':\n",
    "    print('\\nUsage:\\npython fasta2csv.py  input.fst  output.csv\\n')\n",
    "    sys.exit()\n",
    "\n",
    "input = sys.argv[1]\n",
    "if not os.path.exists(input):\n",
    "    print('\\nError: File \"%s\" is not exist!\\n' % input)\n",
    "    sys.exit()\n",
    "\n",
    "output = 'output.csv'\n",
    "if len(sys.argv) > 2:\n",
    "    output = sys.argv[2]\n",
    "\n",
    "# Read in FASTA\n",
    "file = open(input, 'r')\n",
    "lines_i = file.readlines()\n",
    "seq = ''\n",
    "\n",
    "for l in lines_i:\n",
    "    if l[0] == '>':\n",
    "        'Fasta head line'\n",
    "        seq_id = l.strip()\n",
    "    else:\n",
    "        'Sequence line'\n",
    "        seq += l.strip()\n",
    "\n",
    "file.close()\n",
    "\n",
    "print('The Input file is: %s' %input)\n",
    "\n",
    "\n",
    "# Convert FASTA to CSV\n",
    "l = []\n",
    "lines = [str(seq_id) + '\\n']\n",
    "for i, c in enumerate(seq):\n",
    "    l.append(c)\n",
    "    if i % 60 == 59:\n",
    "        lines.append(','.join(l) + '\\n')\n",
    "        l = []\n",
    "\n",
    "if l != []:\n",
    "    lines.append(','.join(l) + '\\n')\n",
    "\n",
    "\n",
    "\n",
    "# Output CSV file\n",
    "file = open(output, 'w')\n",
    "file.writelines(lines)\n",
    "file.close()\n",
    "print('The Output file is: %s' %output)"
   ]
  },
  {
   "cell_type": "code",
   "execution_count": 3,
   "metadata": {},
   "outputs": [],
   "source": [
    "plt.show()"
   ]
  },
  {
   "cell_type": "code",
   "execution_count": 4,
   "metadata": {},
   "outputs": [
    {
     "ename": "TabError",
     "evalue": "inconsistent use of tabs and spaces in indentation (<ipython-input-4-f504d0931e59>, line 62)",
     "output_type": "error",
     "traceback": [
      "\u001b[1;36m  File \u001b[1;32m\"<ipython-input-4-f504d0931e59>\"\u001b[1;36m, line \u001b[1;32m62\u001b[0m\n\u001b[1;33m    file.write(result)\u001b[0m\n\u001b[1;37m                      ^\u001b[0m\n\u001b[1;31mTabError\u001b[0m\u001b[1;31m:\u001b[0m inconsistent use of tabs and spaces in indentation\n"
     ]
    }
   ],
   "source": [
    "import urllib\n",
    "import json\n",
    "import time, os\n",
    "\n",
    "MAX_SUBS = 1000000\n",
    "MAX_CF_CONTEST_ID = 600\n",
    "MAGIC_START_POINT = 17000\n",
    "\n",
    "handle='tacklemore'\n",
    "\n",
    "SOURCE_CODE_BEGIN = '<pre class=\"prettyprint program-source\" style=\"padding: 0.5em;\">'\n",
    "SUBMISSION_URL = 'http://codeforces.com/contest/{ContestId}/submission/{SubmissionId}'\n",
    "USER_INFO_URL = 'http://codeforces.com/api/user.status?handle={handle}&from=1&count={count}'\n",
    "\n",
    "EXT = {'C++': 'cpp', 'C': 'c', 'Java': 'java', 'Python': 'py', 'Delphi': 'dpr', 'FPC': 'pas', 'C#': 'cs'}\n",
    "EXT_keys = EXT.keys()\n",
    "\n",
    "replacer = {'&quot;': '\\\"', '&gt;': '>', '&lt;': '<', '&amp;': '&', \"&apos;\": \"'\"}\n",
    "keys = replacer.keys()\n",
    "\n",
    "def get_ext(comp_lang):\n",
    "    if 'C++' in comp_lang:\n",
    "        return 'cpp'\n",
    "    for key in EXT_keys:\n",
    "        if key in comp_lang:\n",
    "            return EXT[key]\n",
    "    return \"\"\n",
    "\n",
    "def parse(source_code):\n",
    "    for key in keys:\n",
    "        source_code = source_code.replace(key, replacer[key])\n",
    "    return source_code\n",
    "\n",
    "if not os.path.exists(handle):\n",
    "    os.makedirs(handle)\n",
    "\n",
    "user_info = urllib.urlopen(USER_INFO_URL.format(handle=handle, count=MAX_SUBS)).read()\n",
    "dic = json.loads(user_info)\n",
    "if dic['status'] != u'OK':\n",
    "    print ('Oops.. Something went wrong...')\n",
    "    exit(0)\n",
    "\n",
    "submissions = dic['result']\n",
    "start_time = time.time()\n",
    "\n",
    "for submission in submissions:\n",
    "    if submission['verdict'] == u'OK' and submission['contestId'] < MAX_CF_CONTEST_ID:\n",
    "        con_id, sub_id = submission['contestId'], submission['id'],\n",
    "        prob_name, prob_id = submission['problem']['name'], submission['problem']['index']\n",
    "        comp_lang = submission['programmingLanguage']\n",
    "        submission_info = urllib.urlopen(SUBMISSION_URL.format(ContestId=con_id, SubmissionId=sub_id)).read()\n",
    "        \n",
    "        start_pos = submission_info.find(SOURCE_CODE_BEGIN, MAGIC_START_POINT) + len(SOURCE_CODE_BEGIN)\n",
    "        end_pos = submission_info.find(\"</pre>\", start_pos)\n",
    "        result = parse(submission_info[start_pos:end_pos]).replace('\\r', '')\n",
    "        ext = get_ext(comp_lang)\n",
    "        \n",
    "        new_directory = handle + '/' + str(con_id)\n",
    "        if not os.path.exists(new_directory):\n",
    "            os.makedirs(new_directory)\n",
    "        file = open(new_directory + '/' + prob_id + '[ ' + prob_name + ' ]' + '.' + ext, 'w')\n",
    "\tfile.write(result)\n",
    "\tfile.close()\t\t\n",
    "end_time = time.time()\n",
    "\n",
    "print ('Execution time %d seconds' % int(end_time - start_time))"
   ]
  },
  {
   "cell_type": "code",
   "execution_count": null,
   "metadata": {},
   "outputs": [],
   "source": []
  }
 ],
 "metadata": {
  "kernelspec": {
   "display_name": "Python 3",
   "language": "python",
   "name": "python3"
  },
  "language_info": {
   "codemirror_mode": {
    "name": "ipython",
    "version": 3
   },
   "file_extension": ".py",
   "mimetype": "text/x-python",
   "name": "python",
   "nbconvert_exporter": "python",
   "pygments_lexer": "ipython3",
   "version": "3.7.3"
  }
 },
 "nbformat": 4,
 "nbformat_minor": 2
}
