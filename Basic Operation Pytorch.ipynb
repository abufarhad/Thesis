{
 "cells": [
  {
   "cell_type": "code",
   "execution_count": 2,
   "metadata": {},
   "outputs": [],
   "source": [
    "import torch "
   ]
  },
  {
   "cell_type": "code",
   "execution_count": 115,
   "metadata": {},
   "outputs": [
    {
     "data": {
      "text/plain": [
       "tensor([[[0.3361, 0.6099, 0.6221],\n",
       "         [0.6999, 0.2249, 0.8707]],\n",
       "\n",
       "        [[0.3838, 0.7852, 0.5925],\n",
       "         [0.3054, 0.3927, 0.0113]],\n",
       "\n",
       "        [[0.0594, 0.2737, 0.8685],\n",
       "         [0.8663, 0.5591, 0.4828]]])"
      ]
     },
     "execution_count": 115,
     "metadata": {},
     "output_type": "execute_result"
    }
   ],
   "source": [
    "x = torch.rand(3, 2, 3)  # Dimention, row , coloumn \n",
    "x"
   ]
  },
  {
   "cell_type": "raw",
   "metadata": {},
   "source": [
    "#index will be changed after permute , \n",
    "\n",
    "#After permute  [ dimension=> x_index[1]=3 ],  [ Row => x_index[0]=2], [ Column=> x_index[2]=3]"
   ]
  },
  {
   "cell_type": "code",
   "execution_count": 116,
   "metadata": {},
   "outputs": [
    {
     "name": "stdout",
     "output_type": "stream",
     "text": [
      "torch.Size([3, 3, 2]) torch.Size([2, 3, 3])\n",
      "tensor([[[0.3361, 0.6999],\n",
      "         [0.6099, 0.2249],\n",
      "         [0.6221, 0.8707]],\n",
      "\n",
      "        [[0.3838, 0.3054],\n",
      "         [0.7852, 0.3927],\n",
      "         [0.5925, 0.0113]],\n",
      "\n",
      "        [[0.0594, 0.8663],\n",
      "         [0.2737, 0.5591],\n",
      "         [0.8685, 0.4828]]])\n",
      "tensor([[[0.3361, 0.6099, 0.6221],\n",
      "         [0.3838, 0.7852, 0.5925],\n",
      "         [0.0594, 0.2737, 0.8685]],\n",
      "\n",
      "        [[0.6999, 0.2249, 0.8707],\n",
      "         [0.3054, 0.3927, 0.0113],\n",
      "         [0.8663, 0.5591, 0.4828]]])\n"
     ]
    }
   ],
   "source": [
    "\n",
    "y = x.transpose(2, 1)\n",
    "z = x.permute(1, 0,2) \n",
    "\n",
    "\n",
    "print (y.shape, z.shape)\n",
    "print (y)\n",
    "print (z)"
   ]
  },
  {
   "cell_type": "code",
   "execution_count": 73,
   "metadata": {},
   "outputs": [
    {
     "name": "stdout",
     "output_type": "stream",
     "text": [
      "tensor([[[0.1591, 0.2908, 0.4526],\n",
      "         [0.5065, 0.0894, 0.6569]]]) torch.Size([1, 2, 3])\n",
      "torch.Size([2, 3, 1])\n"
     ]
    }
   ],
   "source": [
    "x = torch.rand(1, 2, 3)\n",
    "\n",
    "print(x,x.shape)\n",
    "\n",
    "x = x.permute(1, 2, 0)\n",
    "print(x.shape)"
   ]
  },
  {
   "cell_type": "code",
   "execution_count": 35,
   "metadata": {},
   "outputs": [
    {
     "data": {
      "text/plain": [
       "tensor([[[0.9252, 0.2700, 0.4553, 0.9693],\n",
       "         [0.1631, 0.0742, 0.3437, 0.7508]],\n",
       "\n",
       "        [[0.7282, 0.8300, 0.1608, 0.9449],\n",
       "         [0.5755, 0.7139, 0.8793, 0.0987]],\n",
       "\n",
       "        [[0.0903, 0.9128, 0.1692, 0.2425],\n",
       "         [0.6054, 0.0731, 0.3013, 0.7516]]])"
      ]
     },
     "execution_count": 35,
     "metadata": {},
     "output_type": "execute_result"
    }
   ],
   "source": [
    "z=x.permute(2, 1, 0)\n"
   ]
  },
  {
   "cell_type": "code",
   "execution_count": 110,
   "metadata": {
    "scrolled": false
   },
   "outputs": [
    {
     "name": "stdout",
     "output_type": "stream",
     "text": [
      "tensor([[[-0.5343, -0.0598,  0.5498,  1.4276, -0.5987],\n",
      "         [ 0.2402,  0.4135,  0.4999,  1.3838, -1.2628],\n",
      "         [ 0.0907,  0.0809, -1.2053,  0.7666, -0.6444]],\n",
      "\n",
      "        [[ 0.7903,  1.1829, -0.5667, -0.0142, -0.4898],\n",
      "         [-0.2596, -3.0139, -0.6189, -1.5202, -1.6454],\n",
      "         [ 0.9513, -0.6368,  0.6926,  0.7991,  1.2432]]])\n",
      "torch.Size([2, 3, 5])\n",
      "torch.Size([5, 2, 3])\n",
      "tensor([[[-0.5343,  0.2402,  0.0907],\n",
      "         [ 0.7903, -0.2596,  0.9513]],\n",
      "\n",
      "        [[-0.0598,  0.4135,  0.0809],\n",
      "         [ 1.1829, -3.0139, -0.6368]],\n",
      "\n",
      "        [[ 0.5498,  0.4999, -1.2053],\n",
      "         [-0.5667, -0.6189,  0.6926]],\n",
      "\n",
      "        [[ 1.4276,  1.3838,  0.7666],\n",
      "         [-0.0142, -1.5202,  0.7991]],\n",
      "\n",
      "        [[-0.5987, -1.2628, -0.6444],\n",
      "         [-0.4898, -1.6454,  1.2432]]])\n"
     ]
    }
   ],
   "source": [
    "x = torch.randn(2, 3, 5)\n",
    "print(x)\n",
    "print( x.size() )\n",
    "\n",
    "y=x.permute(2, 0, 1) \n",
    "\n",
    "# index be changed after permute \n",
    "#After permute  [ dimension=> x_index[2]=5 ],  [ Row => x_index[0]=2 ], [ Column=> x_index[1]=3 ]\n",
    "\n",
    "print( y.size() )\n",
    "print(y)"
   ]
  }
 ],
 "metadata": {
  "kernelspec": {
   "display_name": "Python 3",
   "language": "python",
   "name": "python3"
  }
 },
 "nbformat": 4,
 "nbformat_minor": 2
}
