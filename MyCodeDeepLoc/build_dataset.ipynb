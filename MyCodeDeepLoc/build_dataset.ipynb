{
 "cells": [
  {
   "cell_type": "code",
   "execution_count": 1,
   "metadata": {},
   "outputs": [],
   "source": [
    "import os\n",
    "from Bio import SeqIO\n",
    "import random\n"
   ]
  },
  {
   "cell_type": "code",
   "execution_count": null,
   "metadata": {},
   "outputs": [],
   "source": [
    "def load_dataset(path_fasta):\n",
    "    \n",
    "    fasta_seq=SeqIO.parse(open(path_fasta), 'fasta' )\n",
    "    dataset=[]\n",
    "    \n",
    "    for fasta in fasta_seq:\n",
    "        label, seq=fasta.description.split(\" \")[1].split(\"-\")[0], str(fasta.seq)\n",
    "        print('Load Dataset : ', label, se)\n",
    "    "
   ]
  },
  {
   "cell_type": "code",
   "execution_count": null,
   "metadata": {},
   "outputs": [],
   "source": [
    "if _name_==\"__main__\":\n",
    "    path_datset='data/deeploc_data.fasta'\n",
    "    \n",
    "    msg=\"{} file not found \".format(path_datset)\n",
    "    assert os.path.isfile(path_datset), msg\n",
    "    \n",
    "    # Load the dataset into memory\n",
    "    print(\"Loading dataset into memory...\")\n",
    "    dataset = load_dataset(path_dataset)\n",
    "    print(\"- done.\")\n",
    "    random.seed(11)\n",
    "    random.shuffle(dataset)\n",
    "\n",
    "    # Split the dataset into train, val and split (dummy split with no shuffle)\n",
    "    train_dataset = dataset[:int(0.7*len(dataset))]\n",
    "    val_dataset = dataset[int(0.7*len(dataset)) : int(0.85*len(dataset))]\n",
    "    test_dataset = dataset[int(0.85*len(dataset)):]\n",
    "\n",
    "    # Save the datasets to files\n",
    "    save_dataset(train_dataset, 'data/train')\n",
    "    save_dataset(val_dataset, 'data/val')\n",
    "    save_dataset(test_dataset, 'data/test')"
   ]
  }
 ],
 "metadata": {
  "kernelspec": {
   "display_name": "Python 3",
   "language": "python",
   "name": "python3"
  },
  "language_info": {
   "codemirror_mode": {
    "name": "ipython",
    "version": 3
   },
   "file_extension": ".py",
   "mimetype": "text/x-python",
   "name": "python",
   "nbconvert_exporter": "python",
   "pygments_lexer": "ipython3",
   "version": "3.7.4"
  }
 },
 "nbformat": 4,
 "nbformat_minor": 2
}
