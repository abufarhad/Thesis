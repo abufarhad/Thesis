{
 "cells": [
  {
   "cell_type": "code",
   "execution_count": 1,
   "metadata": {},
   "outputs": [],
   "source": [
    "import numpy as np\n",
    "\n",
    "X = np.array([\n",
    "[0, 0, 1],\n",
    "[0, 1, 1],\n",
    "[1, 0, 1],\n",
    "[1, 1, 1]])\n",
    "y = np.array([[0],\n",
    "              [1],\n",
    "              [1],\n",
    "              [0]])\n",
    "              \n",
    "#Weight Initialize             \n",
    "w1=np.random.random((3,2))\n",
    "w2=np.random.random((2,1))\n",
    "\n",
    "#sigmoid function   \n",
    "def sigmoid(x, deriv=False):\n",
    "  if(deriv):\n",
    "    return x*(1-x)\n",
    "  else:\n",
    "    return (1/(1+np.exp(-x)))\n",
    " \n"
   ]
  },
  {
   "cell_type": "code",
   "execution_count": 2,
   "metadata": {},
   "outputs": [],
   "source": [
    "#Back propagation   \n",
    "for epoch in range(0,30000):\n",
    "\n",
    "  eta=0.5\n",
    "  #Weighted Sum\n",
    "\n",
    "  z_h=np.dot(X,w1)\n",
    "  a_h=sigmoid(z_h)\n",
    "  \n",
    "  # second weighted sum\n",
    "  z_o=np.dot(a_h,w2)\n",
    "  a_o=sigmoid(z_o)\n",
    "    \n",
    "  #Error Calculate\n",
    "  Ea=(0.5*(np.power((a_o-y),2)))\n",
    "    \n",
    "  #BackPropagation dE/dw2\n",
    "  #dE/da0\n",
    "  dEda0=(a_o-y)\n",
    "\n",
    "  #da0/dz0\n",
    "  da0dz0=sigmoid(a_o,deriv=True)\n",
    "\n",
    "  #dz0/dw\n",
    "  dz0dw=a_h\n",
    "\n",
    "  #dE/dw2\n",
    "  st=da0dz0*dEda0\n",
    "  dEdw2=np.dot(dz0dw.T,st)\n",
    "    \n",
    "  #Weight update\n",
    "  w2=w2-(eta*dEdw2)\n",
    "    \n",
    "  #hidden Layer dEdw1\n",
    "  #dE/dah\n",
    "  dEdah=np.dot(st,w2.T)\n",
    "\n",
    "  #dzh/dw\n",
    "  dzhdw=X\n",
    "\n",
    "  #dah/dzh\n",
    "  dahdzh=sigmoid(a_h,deriv=True)\n",
    "  fs=dEdah*dahdzh\n",
    "  dEdw1=np.dot(dzhdw.T,fs)\n",
    "\n",
    "  #Weight Update\n",
    "  w1=w1-(eta*dEdw1)\n",
    " \n"
   ]
  },
  {
   "cell_type": "code",
   "execution_count": 3,
   "metadata": {},
   "outputs": [
    {
     "name": "stdout",
     "output_type": "stream",
     "text": [
      "[[10.63253703  9.90219851]\n",
      " [ 5.41474554 -2.81078433]\n",
      " [-1.23518494  2.09209527]]\n",
      "[[ 7.21410275]\n",
      " [-7.21409544]]\n",
      "[[0.00819224]\n",
      " [0.9913493 ]\n",
      " [0.4998634 ]\n",
      " [0.5001864 ]]\n"
     ]
    }
   ],
   "source": [
    "print(w1)\n",
    "print(w2)\n",
    "\n",
    "#testing final output\n",
    "test_a_h=sigmoid(np.dot(X,w1));\n",
    "prediction=sigmoid(np.dot(test_a_h,w2))\n",
    "print(prediction)"
   ]
  },
  {
   "cell_type": "code",
   "execution_count": null,
   "metadata": {},
   "outputs": [],
   "source": []
  }
 ],
 "metadata": {
  "kernelspec": {
   "display_name": "Python 3",
   "language": "python",
   "name": "python3"
  },
  "language_info": {
   "codemirror_mode": {
    "name": "ipython",
    "version": 3
   },
   "file_extension": ".py",
   "mimetype": "text/x-python",
   "name": "python",
   "nbconvert_exporter": "python",
   "pygments_lexer": "ipython3",
   "version": "3.7.4"
  }
 },
 "nbformat": 4,
 "nbformat_minor": 2
}
