{
 "cells": [
  {
   "cell_type": "code",
   "execution_count": 2,
   "metadata": {},
   "outputs": [],
   "source": [
    "from matplotlib import pyplot as plt\n",
    "import numpy as np"
   ]
  },
  {
   "cell_type": "code",
   "execution_count": 56,
   "metadata": {},
   "outputs": [],
   "source": [
    "data=[\n",
    "     [3, 1.5 ,1],\n",
    "     [2, 1   ,0],\n",
    "     [4, 1.5 ,1],\n",
    "     [3, 2   ,0],\n",
    "     [3.5,.5 ,1],\n",
    "     [2, .5  ,0],\n",
    "     [5.5 ,1 ,1],\n",
    "     [1,  1,  0]]\n",
    "\n",
    "mystary_flower=[4.5, 1]"
   ]
  },
  {
   "cell_type": "code",
   "execution_count": 6,
   "metadata": {},
   "outputs": [],
   "source": [
    "def sigmoid(b):\n",
    "    return 1/(1+np.exp(-b));\n",
    "\n",
    "#derivative of sigmoid function \n",
    "\n",
    "def sigmoid_p(x):\n",
    "    return (sigmoid(x) * (1- sigmoid(x)));\n"
   ]
  },
  {
   "cell_type": "code",
   "execution_count": 22,
   "metadata": {},
   "outputs": [
    {
     "data": {
      "text/plain": [
       "0.8807970779778823"
      ]
     },
     "execution_count": 22,
     "metadata": {},
     "output_type": "execute_result"
    }
   ],
   "source": [
    "sigmoid(2)"
   ]
  },
  {
   "cell_type": "code",
   "execution_count": 7,
   "metadata": {
    "scrolled": false
   },
   "outputs": [
    {
     "data": {
      "text/plain": [
       "[<matplotlib.lines.Line2D at 0x2276eeba7c8>]"
      ]
     },
     "execution_count": 7,
     "metadata": {},
     "output_type": "execute_result"
    },
    {
     "data": {
      "image/png": "[encoded data removed]",
      "text/plain": [
       "<Figure size 432x288 with 1 Axes>"
      ]
     },
     "metadata": {
      "needs_background": "light"
     },
     "output_type": "display_data"
    }
   ],
   "source": [
    "T=np.linspace(-6,6, 100)\n",
    "X=sigmoid(T)\n",
    "Y=sigmoid_p(T)\n",
    "plt.plot(T, X, c='r')\n",
    "plt.plot(T, Y, c='b')"
   ]
  },
  {
   "cell_type": "code",
   "execution_count": 49,
   "metadata": {
    "scrolled": true
   },
   "outputs": [
    {
     "data": {
      "text/plain": [
       "[<matplotlib.lines.Line2D at 0x22712b993c8>]"
      ]
     },
     "execution_count": 49,
     "metadata": {},
     "output_type": "execute_result"
    },
    {
     "data": {
      "image/png": "[encoded data removed]",
      "text/plain": [
       "<Figure size 432x288 with 1 Axes>"
      ]
     },
     "metadata": {
      "needs_background": "light"
     },
     "output_type": "display_data"
    }
   ],
   "source": [
    "#trainning of data\n",
    "\n",
    "learning_rate= 0.2\n",
    "costs =[]\n",
    "\n",
    "\n",
    "w1=np.random.randn()\n",
    "\n",
    "w2=np.random.randn()\n",
    "\n",
    "b=np.random.randn()\n",
    "\n",
    "\n",
    "for i in range(10005):\n",
    "    ri=np.random.randint(len(data))\n",
    "    point=data[ri]\n",
    "    #print(point)\n",
    "    \n",
    "    z=point[0]*w1 +point[1]*w2 +b\n",
    "    h=sigmoid(z)\n",
    "    #print(h)\n",
    "    \n",
    "    pred=h\n",
    "    \n",
    "    target=point[2]\n",
    "    \n",
    "    cost=np.square(pred-target )\n",
    "    #print(point, cost)\n",
    "    \n",
    "    #costs.append(cost)\n",
    "    \n",
    "    #Backpropagation \n",
    "    \n",
    "    dcost_pred=2*(pred-target)\n",
    "    dpred_dz=sigmoid_p(z)\n",
    "    \n",
    "    dz_dw1=point[0]\n",
    "    dz_dw2=point[1]\n",
    "    dz_b=1\n",
    "    \n",
    "    #chain Rule\n",
    "    \n",
    "    d_cost_dw1=dcost_pred * dpred_dz * dz_dw1\n",
    "    d_cost_dw2=dcost_pred * dpred_dz * dz_dw2\n",
    "    d_cost_b=dcost_pred * dpred_dz * dz_b\n",
    "    \n",
    "    \n",
    "    w1=w1- d_cost_dw1*learning_rate\n",
    "    w2=w2- d_cost_dw2*learning_rate\n",
    "    b =b-  d_cost_b  *learning_rate\n",
    "    \n",
    "    \n",
    "    if i%100==0:\n",
    "        cost_sum=0\n",
    "    \n",
    "        for j in range(len(data)):\n",
    "            point=data[j]\n",
    "            z=point[0]*w1 +point[1]*w2 +b\n",
    "            pred=sigmoid(z)\n",
    "            target=point[2]\n",
    "            cost_sum+=np.square(pred-target)\n",
    "        costs.append(cost_sum/ len(data))\n",
    "    \n",
    "\n",
    "        \n",
    "        \n",
    "        \n",
    "\n",
    "plt.plot(costs)\n",
    "    \n",
    "    "
   ]
  },
  {
   "cell_type": "code",
   "execution_count": 51,
   "metadata": {
    "scrolled": true
   },
   "outputs": [
    {
     "name": "stdout",
     "output_type": "stream",
     "text": [
      "[3, 1.5, 1]\n",
      "0.7306290385827727\n",
      "[2, 1, 0]\n",
      "0.04606991965525325\n",
      "[4, 1.5, 1]\n",
      "0.9989715144892061\n",
      "[3, 2, 0]\n",
      "0.29843537589832914\n",
      "[3.5, 0.5, 1]\n",
      "0.9995210233650601\n",
      "[2, 0.5, 0]\n",
      "0.23543824574431418\n",
      "[5.5, 1, 1]\n",
      "0.9999999761730546\n",
      "[1, 1, 0]\n",
      "0.00013484460361102492\n"
     ]
    }
   ],
   "source": [
    "#seeing the prediction training set\n",
    "\n",
    "for i in range(len(data)):\n",
    "    point =data[i]\n",
    "    \n",
    "    z=point[0]*w1 + point[1]*w2 +b\n",
    "    \n",
    "    pred=sigmoid(z)\n",
    "    print(point)\n",
    "    print(pred )"
   ]
  },
  {
   "cell_type": "code",
   "execution_count": 55,
   "metadata": {},
   "outputs": [
    {
     "name": "stdout",
     "output_type": "stream",
     "text": [
      "0.9999997901301764\n"
     ]
    }
   ],
   "source": [
    "#test set \n",
    "\n",
    "z=mystary_flower[0]*w1 +mystary_flower[1]*w2 +b\n",
    "pred=sigmoid(z)\n",
    "\n",
    "print(pred)\n"
   ]
  }
 ],
 "metadata": {
  "kernelspec": {
   "display_name": "Python 3",
   "language": "python",
   "name": "python3"
  },
  "language_info": {
   "codemirror_mode": {
    "name": "ipython",
    "version": 3
   },
   "file_extension": ".py",
   "mimetype": "text/x-python",
   "name": "python",
   "nbconvert_exporter": "python",
   "pygments_lexer": "ipython3",
   "version": "3.7.4"
  }
 },
 "nbformat": 4,
 "nbformat_minor": 2
}
